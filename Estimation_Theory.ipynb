{
 "cells": [
  {
   "cell_type": "markdown",
   "id": "6fcb5e87",
   "metadata": {},
   "source": [
    "### Sampling Distribution\n",
    "\n",
    "Q1. Suppose an automobile battery manufacturer claims that the mean lifetime of their battery is 60 months with a standard deviation of 6 months. Suppose the distribution of battery life is approximately normal. Find the probability that the mean lifetime of 40 randomly sampled batteries will be less than 58 months.\n"
   ]
  },
  {
   "cell_type": "code",
   "execution_count": 1,
   "id": "719a4d3f",
   "metadata": {},
   "outputs": [],
   "source": [
    "import pandas as pd\n",
    "import numpy as np\n",
    "import matplotlib.pyplot as plt\n",
    "import scipy.stats as stats"
   ]
  },
  {
   "cell_type": "code",
   "execution_count": 2,
   "id": "cc30a971",
   "metadata": {},
   "outputs": [],
   "source": [
    "# Given data\n",
    "mean_population = 60  # Mean lifetime of the battery\n",
    "std_dev_population = 6  # Standard deviation of battery lifetime\n",
    "sample_size = 40  # Number of sampled batteries\n",
    "sample_mean = 58  # Sample mean to test"
   ]
  },
  {
   "cell_type": "code",
   "execution_count": 7,
   "id": "d08138e5",
   "metadata": {},
   "outputs": [],
   "source": [
    "# Calculate the standard error of the mean\n",
    "standard_error = std_dev_population / (sample_size ** 0.5)"
   ]
  },
  {
   "cell_type": "code",
   "execution_count": 8,
   "id": "a003a2f5",
   "metadata": {},
   "outputs": [],
   "source": [
    "# Calculate the z-score\n",
    "z_score = (sample_mean - mean_population) / standard_error"
   ]
  },
  {
   "cell_type": "code",
   "execution_count": 9,
   "id": "e26d33a9",
   "metadata": {},
   "outputs": [],
   "source": [
    "# Find the probability using the cumulative distribution function (CDF) of the standard normal distribution\n",
    "probability = stats.norm.cdf(z_score)"
   ]
  },
  {
   "cell_type": "code",
   "execution_count": 6,
   "id": "d140781f",
   "metadata": {},
   "outputs": [
    {
     "name": "stdout",
     "output_type": "stream",
     "text": [
      "Sampling Distribution Analysis:\n",
      "Z-score: -2.1082\n",
      "Probability (mean lifetime < 58 months): 0.0175\n"
     ]
    }
   ],
   "source": [
    "# Display the results\n",
    "print(\"Sampling Distribution Analysis:\")\n",
    "print(f\"Z-score: {z_score:.4f}\")\n",
    "print(f\"Probability (mean lifetime < 58 months): {probability:.4f}\")\n"
   ]
  },
  {
   "cell_type": "markdown",
   "id": "faf15af8",
   "metadata": {},
   "source": [
    "## Interval Estimation\n",
    "\n",
    "### Q2. A random sample of 40 households was selected as part of a study on electricity usage, and the number of kilowatt-hours (kWh) was recorded for each household in the sample for the first quarter of 2020. The average usage was found to be 310 kWh. In a very large study in the first quarter of the previous year, it was found that the standard deviation of the usage was 89 kWh. Assuming the standard deviation is unchanged and that the usage is normally distributed, provide an expression for calculating a 95% confidence interval for the mean usage in the first quarter of 2019."
   ]
  },
  {
   "cell_type": "code",
   "execution_count": 10,
   "id": "cce20172",
   "metadata": {},
   "outputs": [],
   "source": [
    "# Given data\n",
    "mean_population = 60 \n",
    "std_dev_population = 6  \n",
    "sample_size = 40 \n",
    "sample_mean = 58  "
   ]
  },
  {
   "cell_type": "code",
   "execution_count": 11,
   "id": "eb0a8fe5",
   "metadata": {},
   "outputs": [],
   "source": [
    "# Calculate the standard error of the mean\n",
    "standard_error = std_dev_population / (sample_size ** 0.5)"
   ]
  },
  {
   "cell_type": "code",
   "execution_count": 12,
   "id": "26bae059",
   "metadata": {},
   "outputs": [],
   "source": [
    "# Calculate the z-score\n",
    "z_score = (sample_mean - mean_population) / standard_error"
   ]
  },
  {
   "cell_type": "code",
   "execution_count": 13,
   "id": "0594bc84",
   "metadata": {},
   "outputs": [],
   "source": [
    "# Find the probability using the cumulative distribution function (CDF) of the standard normal distribution\n",
    "probability = stats.norm.cdf(z_score)"
   ]
  },
  {
   "cell_type": "code",
   "execution_count": 14,
   "id": "e43f7301",
   "metadata": {},
   "outputs": [
    {
     "name": "stdout",
     "output_type": "stream",
     "text": [
      "Sampling Distribution Analysis:\n",
      "Z-score: -2.1082\n",
      "Probability (mean lifetime < 58 months): 0.0175\n"
     ]
    }
   ],
   "source": [
    "# Display the results\n",
    "print(\"Sampling Distribution Analysis:\")\n",
    "print(f\"Z-score: {z_score:.4f}\")\n",
    "print(f\"Probability (mean lifetime < 58 months): {probability:.4f}\")"
   ]
  },
  {
   "cell_type": "markdown",
   "id": "42473504",
   "metadata": {},
   "source": [
    "### Q3. You are a manager of a Chinese restaurant. You want to determine whether the mean waiting time to place an order has changed in the past month from its previous population mean value of 4.5 minutes. State the null and alternative hypotheses.\n",
    "\n"
   ]
  },
  {
   "cell_type": "code",
   "execution_count": 15,
   "id": "30f2290b",
   "metadata": {},
   "outputs": [
    {
     "name": "stdout",
     "output_type": "stream",
     "text": [
      "One-Sample t-Test Results:\n",
      "t-statistic: 1.5149\n",
      "p-value: 0.1641\n",
      "Fail to reject the null hypothesis: No evidence that the mean waiting time has changed.\n"
     ]
    }
   ],
   "source": [
    "from scipy.stats import ttest_1samp\n",
    "\n",
    "# Sample data (replace with your actual data)\n",
    "waiting_times = [4.8, 5.2, 4.3, 4.6, 4.4, 4.9, 5.0, 4.7, 4.1, 4.6]  # Example data\n",
    "\n",
    "# Population mean\n",
    "population_mean = 4.5\n",
    "\n",
    "# Perform a one-sample t-test\n",
    "t_stat, p_value = ttest_1samp(waiting_times, population_mean)\n",
    "\n",
    "# Display results\n",
    "print(\"One-Sample t-Test Results:\")\n",
    "print(f\"t-statistic: {t_stat:.4f}\")\n",
    "print(f\"p-value: {p_value:.4f}\")\n",
    "\n",
    "# Decision based on alpha = 0.05\n",
    "alpha = 0.05\n",
    "if p_value < alpha:\n",
    "    print(\"Reject the null hypothesis: The mean waiting time has changed.\")\n",
    "else:\n",
    "    print(\"Fail to reject the null hypothesis: No evidence that the mean waiting time has changed.\")\n"
   ]
  },
  {
   "cell_type": "markdown",
   "id": "40822e5c",
   "metadata": {},
   "source": [
    "### Q4. What is the p-value in a two-tailed z-test for one sample, where the computed test statistic (z- stat) is equal to +2.00?\n",
    "\n"
   ]
  },
  {
   "cell_type": "code",
   "execution_count": 19,
   "id": "b9882825",
   "metadata": {},
   "outputs": [
    {
     "name": "stdout",
     "output_type": "stream",
     "text": [
      "p-value: 0.0455\n"
     ]
    }
   ],
   "source": [
    "from scipy.stats import norm\n",
    "\n",
    "# Z-statistic\n",
    "z_stat = 2.00\n",
    "\n",
    "# Compute p-value for two-tailed test\n",
    "p_value = 2 * (1 - norm.cdf(z_stat))  # CDF gives P(Z ≤ z), so 1 - CDF gives P(Z > z)\n",
    "\n",
    "print(f\"p-value: {p_value:.4f}\")"
   ]
  },
  {
   "cell_type": "markdown",
   "id": "ae6bd7dd",
   "metadata": {},
   "source": [
    "### Q5. Samy, Product Manager of K2 Jeans, wants to launch a product line into a new market area. A Survey of a random sample of 400 households in that market showed a mean income per household of 30000 rupees. The standard deviation based on an earlier pilot study of households is 8000 rupees. Samy strongly believes the product line will be adequately profitable only in markets where the mean household income is greater than 29000 rupees. Samy wants our help in deciding whether the product line should be introduced in the new market. Perform statistical analysis and based on that draw a conclusion.\n",
    "\n",
    "Assume a level of significanos () of 5%\n",
    "\n"
   ]
  },
  {
   "cell_type": "code",
   "execution_count": 18,
   "id": "33804146",
   "metadata": {},
   "outputs": [
    {
     "name": "stdout",
     "output_type": "stream",
     "text": [
      "One-Tailed Z-Test Results:\n",
      "Z-statistic: 2.5000\n",
      "p-value: 0.0062\n",
      "Reject the null hypothesis: Launch the product line; the mean income is adequate.\n"
     ]
    }
   ],
   "source": [
    "# Given data\n",
    "sample_mean = 30000  # Sample mean (x̄)\n",
    "hypothesized_mean = 29000  # Hypothesized mean (μ₀)\n",
    "std_dev_population = 8000  # Population standard deviation (σ)\n",
    "sample_size = 400  # Sample size (n)\n",
    "alpha = 0.05  # Significance level\n",
    "\n",
    "# Calculate the standard error\n",
    "standard_error = std_dev_population / (sample_size ** 0.5)\n",
    "\n",
    "# Calculate the z-statistic\n",
    "z_stat = (sample_mean - hypothesized_mean) / standard_error\n",
    "\n",
    "# Calculate the p-value for one-tailed test\n",
    "p_value = 1 - norm.cdf(z_stat)\n",
    "\n",
    "# Display results\n",
    "print(\"One-Tailed Z-Test Results:\")\n",
    "print(f\"Z-statistic: {z_stat:.4f}\")\n",
    "print(f\"p-value: {p_value:.4f}\")\n",
    "\n",
    "# Decision based on alpha\n",
    "if p_value < alpha:\n",
    "    print(\"Reject the null hypothesis: Launch the product line; the mean income is adequate.\")\n",
    "else:\n",
    "    print(\"Fail to reject the null hypothesis: Do not launch the product line; the mean income is not adequate.\")\n"
   ]
  }
 ],
 "metadata": {
  "kernelspec": {
   "display_name": "Python 3 (ipykernel)",
   "language": "python",
   "name": "python3"
  },
  "language_info": {
   "codemirror_mode": {
    "name": "ipython",
    "version": 3
   },
   "file_extension": ".py",
   "mimetype": "text/x-python",
   "name": "python",
   "nbconvert_exporter": "python",
   "pygments_lexer": "ipython3",
   "version": "3.11.7"
  }
 },
 "nbformat": 4,
 "nbformat_minor": 5
}
